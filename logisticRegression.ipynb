{
 "cells": [
  {
   "cell_type": "code",
   "execution_count": 28,
   "metadata": {},
   "outputs": [],
   "source": [
    "import numpy as np\n",
    "import pandas as pd\n",
    "from sklearn import datasets\n",
    "from sklearn.model_selection import train_test_split"
   ]
  },
  {
   "cell_type": "code",
   "execution_count": 40,
   "metadata": {},
   "outputs": [],
   "source": [
    "class logisticRegression:\n",
    "    def __init__(self,learning_rate=0.001,n_iters=1000):\n",
    "        self.lr = learning_rate\n",
    "        self.n_iters = n_iters\n",
    "        self.weights = None\n",
    "        self.bias = None\n",
    "    def fit(self,X,y):\n",
    "        n_samples,n_features = X.shape\n",
    "        print(n_samples,n_features)\n",
    "        self.bias=0\n",
    "        self.weights = np.zeros(n_features)\n",
    "        for _ in range(self.n_iters):\n",
    "            linear_model = np.dot(X,self.weights)+self.bias\n",
    "            y_predicted = (1/(1+np.exp(-linear_model)))\n",
    "            dw = (1/n_samples)*np.dot(X.T,(y_predicted-y))\n",
    "            db = (1/n_samples)*np.sum(y_predicted-y)\n",
    "            self.weights -=self.lr*dw\n",
    "            self.bias-= self.lr*db\n",
    "    def predict(self,X):\n",
    "        linear_model = np.dot(X,self.weights)+self.bias\n",
    "        y_predicted = (1/(1+np.exp(-linear_model)))\n",
    "        predicted = [1 if i>0.5 else 0 for i in y_predicted]\n",
    "        return predicted\n",
    "    def accuracy(self,y_true,y_pred):\n",
    "        acc = np.sum(y_true==y_pred)/len(y_true)\n",
    "        return acc"
   ]
  },
  {
   "cell_type": "code",
   "execution_count": 57,
   "metadata": {},
   "outputs": [],
   "source": [
    "bc = datasets.load_breast_cancer()\n",
    "X,y = bc.data,bc.target\n",
    "x_train,x_test,y_train,y_test = train_test_split(X,y,test_size=0.2,random_state=41)"
   ]
  },
  {
   "cell_type": "code",
   "execution_count": 58,
   "metadata": {},
   "outputs": [
    {
     "name": "stdout",
     "output_type": "stream",
     "text": [
      "455 30\n"
     ]
    }
   ],
   "source": [
    "lrmodel = logisticRegression(0.0001,10000)\n",
    "lrmodel.fit(x_train,y_train)"
   ]
  },
  {
   "cell_type": "code",
   "execution_count": 59,
   "metadata": {},
   "outputs": [],
   "source": [
    "predicted = lrmodel.predict(x_test)\n",
    "accuracy_of_model = lrmodel.accuracy(y_test,predicted)"
   ]
  },
  {
   "cell_type": "code",
   "execution_count": 60,
   "metadata": {},
   "outputs": [
    {
     "data": {
      "text/plain": [
       "0.9298245614035088"
      ]
     },
     "execution_count": 60,
     "metadata": {},
     "output_type": "execute_result"
    }
   ],
   "source": [
    "accuracy_of_model"
   ]
  },
  {
   "cell_type": "code",
   "execution_count": null,
   "metadata": {},
   "outputs": [],
   "source": []
  }
 ],
 "metadata": {
  "kernelspec": {
   "display_name": "Python 3",
   "language": "python",
   "name": "python3"
  },
  "language_info": {
   "codemirror_mode": {
    "name": "ipython",
    "version": 3
   },
   "file_extension": ".py",
   "mimetype": "text/x-python",
   "name": "python",
   "nbconvert_exporter": "python",
   "pygments_lexer": "ipython3",
   "version": "3.8.5"
  }
 },
 "nbformat": 4,
 "nbformat_minor": 4
}
